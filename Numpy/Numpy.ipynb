{
 "cells": [
  {
   "cell_type": "code",
   "execution_count": 30,
   "id": "5b57cdc8",
   "metadata": {},
   "outputs": [],
   "source": [
    "import numpy as np\n",
    "#new cwll->esc+B"
   ]
  },
  {
   "cell_type": "code",
   "execution_count": 31,
   "id": "4c80b991",
   "metadata": {},
   "outputs": [
    {
     "name": "stdout",
     "output_type": "stream",
     "text": [
      "[ 5 10 15 20]\n",
      "int64\n"
     ]
    }
   ],
   "source": [
    "#create a 1D NumPy array and its type\n",
    "data = np.array([5, 10, 15, 20])\n",
    "print(data)\n",
    "print(data.dtype)"
   ]
  },
  {
   "cell_type": "code",
   "execution_count": 32,
   "id": "d41f0754",
   "metadata": {},
   "outputs": [
    {
     "name": "stdout",
     "output_type": "stream",
     "text": [
      "Zero Matrice:[[0. 0. 0.]\n",
      " [0. 0. 0.]\n",
      " [0. 0. 0.]]\n",
      "One Matrice:[[1. 1. 1.]\n",
      " [1. 1. 1.]\n",
      " [1. 1. 1.]]\n"
     ]
    }
   ],
   "source": [
    "#Create a 3×3 matrix of all zeros\n",
    "# Create a 3×3 matrix of all ones\n",
    "# Print both matrices\n",
    "Zero_Matrix = np.zeros((3,3))\n",
    "One_Matrix = np.ones((3,3))\n",
    "print(f\"Zero Matrice:{Zero_Matrix}\")\n",
    "print(f\"One Matrice:{One_Matrix}\")"
   ]
  },
  {
   "cell_type": "code",
   "execution_count": 33,
   "id": "c9f39651",
   "metadata": {},
   "outputs": [
    {
     "name": "stdout",
     "output_type": "stream",
     "text": [
      "2,4,6,8,10,12,14,16,18,20,22,24,26,28,30,32,34,36,38,40,42,44,46,48,50,52,54,56,58,60,62,64,66,68,70,72,74,76,78,80,82,84,86,88,90,92,94,96,98,100\n",
      "(50,)\n"
     ]
    }
   ],
   "source": [
    "#Create an Array of Even Numbers\n",
    "Even = np.arange(2,101,2)\n",
    "visual = \",\".join(f\"{value}\" for value in Even)\n",
    "print(visual)\n",
    "print(Even.shape)"
   ]
  },
  {
   "cell_type": "code",
   "execution_count": 34,
   "id": "31f952c1",
   "metadata": {},
   "outputs": [
    {
     "name": "stdout",
     "output_type": "stream",
     "text": [
      "Cubes = [   1    8   27   64  125  216  343  512  729 1000]\n",
      "Cubes is 1D array of 10 elements. The datatype is int64\n",
      "Cubes_2D\n",
      "[[   1    8   27   64  125]\n",
      " [ 216  343  512  729 1000]]\n",
      "Cubes_2D is 2D array with 2 rows and 5 columns.\n",
      "The datatype is int64.\n"
     ]
    }
   ],
   "source": [
    "#Check Shape, Dimensions, Size, Data Type\n",
    "# | Function      | Meaning                               |\n",
    "# | ------------- | ------------------------------------- |\n",
    "# | `array.shape` | Tuple of (rows, columns)              |\n",
    "# | `array.ndim`  | Number of dimensions (1D, 2D, etc.)   |\n",
    "# | `array.size`  | Total elements (e.g., 2×3 = 6)        |\n",
    "# | `array.dtype` | Type of elements (`int32`, `float64`) |\n",
    "\n",
    "Cubes = np.array([i**3 for i in range(1, 11)])  # Cubes from 1 to 10\n",
    "print(f\"Cubes = {Cubes}\")\n",
    "print(f\"Cubes is {Cubes.ndim}D array of {Cubes.size} elements. The datatype is {Cubes.dtype}\")\n",
    "Cubes_2D = Cubes.reshape(2, 5)\n",
    "print(\"Cubes_2D\")\n",
    "print(Cubes_2D)\n",
    "print(f\"Cubes_2D is {Cubes_2D.ndim}D array with {Cubes_2D.shape[0]} rows and {Cubes_2D.shape[1]} columns.\")\n",
    "print(f\"The datatype is {Cubes.dtype}.\")    \n"
   ]
  },
  {
   "cell_type": "code",
   "execution_count": 35,
   "id": "f5c64db8",
   "metadata": {},
   "outputs": [
    {
     "name": "stdout",
     "output_type": "stream",
     "text": [
      "20\n",
      "60\n"
     ]
    }
   ],
   "source": [
    "# Indexing Elements in Arrays\n",
    "# Create a 2D array like [[10, 20, 30], [40, 50, 60]]\n",
    "array = np.arange(10,70,10)\n",
    "array = array.reshape(2,3)\n",
    "# Access and print:\n",
    "print(array[0,1])\n",
    "# The element at 1st row, 2nd column (should give 20)\n",
    "print(array[1,2])\n",
    "# The element at 2nd row, 3rd column (should give 60)"
   ]
  },
  {
   "cell_type": "code",
   "execution_count": 36,
   "id": "6154818a",
   "metadata": {},
   "outputs": [
    {
     "name": "stdout",
     "output_type": "stream",
     "text": [
      "[20 30]\n",
      "[20 50]\n"
     ]
    }
   ],
   "source": [
    "# Slicing Subsets from Arrays\n",
    "# | Syntax                         | Meaning                           |\n",
    "# | ------------------------------ | --------------------------------- |\n",
    "# | `array[start:stop]`            | Basic slicing for 1D array        |\n",
    "# | `array[row_index, start:stop]` | Slice part of a row               |\n",
    "# | `array[start_row:stop_row, :]` | Slice multiple rows (all columns) |\n",
    "# | `array[:, start_col:stop_col]` | Slice multiple columns (all rows) |\n",
    "\n",
    "print(array[0,1:])\n",
    "# All values in the first row, from second column onward\n",
    "print(array[:,1])\n",
    "# All values in the second column, from both rows\n",
    "\n"
   ]
  },
  {
   "cell_type": "code",
   "execution_count": 37,
   "id": "8a63526d",
   "metadata": {},
   "outputs": [
    {
     "name": "stdout",
     "output_type": "stream",
     "text": [
      "[15 25 35]\n",
      "[20 40 60]\n",
      "[100 400 900]\n"
     ]
    }
   ],
   "source": [
    "# Add 5 to every element\n",
    "\n",
    "# Multiply every element by 2\n",
    "\n",
    "# Square each element\n",
    "\n",
    "# Print all three results to verify!\n",
    "array = np.array([10, 20, 30])\n",
    "array1 = array+5\n",
    "print(array1)\n",
    "array2 = array*2\n",
    "print(array2)\n",
    "array3 = array**2\n",
    "print(array3)"
   ]
  },
  {
   "cell_type": "code",
   "execution_count": 38,
   "id": "c339a781",
   "metadata": {},
   "outputs": [
    {
     "name": "stdout",
     "output_type": "stream",
     "text": [
      "2.0\n",
      "140\n"
     ]
    }
   ],
   "source": [
    "x = np.array([1, 2, 3])\n",
    "y = np.array([10, 20, 30])\n",
    "# Then:\n",
    "# Print the mean of x\n",
    "print(x.mean())\n",
    "# Compute and print the dot product of x and y\n",
    "print(np.dot(x,y))"
   ]
  },
  {
   "cell_type": "code",
   "execution_count": 39,
   "id": "163c24e7",
   "metadata": {},
   "outputs": [
    {
     "name": "stdout",
     "output_type": "stream",
     "text": [
      "[[ 0  1  2  3]\n",
      " [ 4  5  6  7]\n",
      " [ 8  9 10 11]]\n",
      "[[ 0  4  8]\n",
      " [ 1  5  9]\n",
      " [ 2  6 10]\n",
      " [ 3  7 11]]\n"
     ]
    }
   ],
   "source": [
    "# Create a 1D array with values from 0 to 11\n",
    "array = np.arange(0,12,1)\n",
    "# Reshape it into 3 rows and 4 columns\n",
    "reshaped_array = array.reshape(3,4)\n",
    "# Print both:\n",
    "# The reshaped matrix\n",
    "print(reshaped_array)\n",
    "\n",
    "# Its transpose\n",
    "transpose = reshaped_array.transpose()\n",
    "print(transpose)"
   ]
  },
  {
   "cell_type": "code",
   "execution_count": 40,
   "id": "f0bc65f7",
   "metadata": {},
   "outputs": [
    {
     "name": "stdout",
     "output_type": "stream",
     "text": [
      "530\n",
      "92\n",
      "16\n",
      "24.066779521639575\n",
      "58.888888888888886\n"
     ]
    }
   ],
   "source": [
    "# Generate a 1D array of 5 random floats between 0 and 1\n",
    "OneD_array = np.random.rand(5)\n",
    "# print(OneD_array)\n",
    "# Generate a 3x3 array of random integers from 10 to 99\n",
    "array = np.random.randint(10,99,9)\n",
    "array = array.reshape(3,3)\n",
    "# Calculate and print:\n",
    "# Sum\n",
    "print(array.sum())\n",
    "# Max\n",
    "print(array.max())\n",
    "# Min\n",
    "print(array.min())\n",
    "# Standard Deviation (std)\n",
    "print(array.std())\n",
    "# Mean\n",
    "print(array.mean())"
   ]
  },
  {
   "cell_type": "markdown",
   "id": "54251f6a",
   "metadata": {},
   "source": [
    "✅ Step 7: Boolean Masking & Filtering"
   ]
  },
  {
   "cell_type": "code",
   "execution_count": 41,
   "id": "974437a3",
   "metadata": {},
   "outputs": [
    {
     "name": "stdout",
     "output_type": "stream",
     "text": [
      "[55 36 32  1 81 24 69 47 50 18]\n",
      "[55 81 69]\n",
      "[ 1 24 18]\n",
      "[36 32 24 50 18]\n",
      "[55  1 81 69 47]\n"
     ]
    }
   ],
   "source": [
    "\n",
    "# Create a NumPy array of 10 random integers between 1 and 100\n",
    "numpy_array = np.random.randint(1,100,10)\n",
    "print(numpy_array)\n",
    "# Use boolean masking to:\n",
    "\n",
    "# Extract all values greater than 50\n",
    "greater_than_50 = numpy_array > 50\n",
    "print(numpy_array[greater_than_50])\n",
    "# Extract all values less than or equal to 30\n",
    "less_than_equal_30 = numpy_array <= 30\n",
    "print(numpy_array[less_than_equal_30])\n",
    "# Extract all even numbers\n",
    "print(numpy_array[numpy_array%2 == 0])\n",
    "# Extract all odd numbers\n",
    "print(numpy_array[numpy_array%2 != 0])"
   ]
  },
  {
   "cell_type": "code",
   "execution_count": null,
   "id": "99a89de7",
   "metadata": {},
   "outputs": [
    {
     "name": "stdout",
     "output_type": "stream",
     "text": [
      "[[84 83 32 12]\n",
      " [ 4 65  4 99]\n",
      " [84 49 94 13]]\n",
      "[211 172 240]\n",
      "[172 197 130 124]\n",
      "[52.75 43.   60.  ]\n",
      "[84 83 94 99]\n",
      "[37.71236166 13.88844444 37.60614607 40.77853466]\n"
     ]
    }
   ],
   "source": [
    "# Create a 3x4 NumPy array with any values (you can use np.arange() or randint()).\n",
    "array = np.random.randint(1,100,12)\n",
    "array = array.reshape(3,4)\n",
    "print(array)\n",
    "# Print:\n",
    "# Row-wise sum (axis=1)\n",
    "print(array.sum(axis = 1))\n",
    "# Column-wise sum (axis=0)\n",
    "print(array.sum(axis = 0))\n",
    "# Row-wise mean\n",
    "print(array.mean(axis = 1))\n",
    "# Column-wise max\n",
    "print(array.max(axis = 0))\n",
    "# Column-wise standard deviation\n",
    "print(array.std(axis = 0))"
   ]
  },
  {
   "cell_type": "markdown",
   "id": "16186268",
   "metadata": {},
   "source": [
    "Step 9: NumPy Broadcasting"
   ]
  },
  {
   "cell_type": "code",
   "execution_count": 52,
   "id": "5e39d19c",
   "metadata": {},
   "outputs": [
    {
     "name": "stdout",
     "output_type": "stream",
     "text": [
      "2D Array\n",
      "[[29 98 99]\n",
      " [99 84 97]]\n",
      "1D Array\n",
      "[[32 51 62]]\n",
      "[[ 61 149 161]\n",
      " [131 135 159]]\n",
      "[[-3 47 37]\n",
      " [67 33 35]]\n"
     ]
    }
   ],
   "source": [
    "# Create a 2D array:\n",
    "print(\"2D Array\")\n",
    "array_2D = np.random.randint(1,100,6)\n",
    "array_2D = array_2D.reshape(2,3)\n",
    "print(array_2D)\n",
    "# Create a 1D array:\n",
    "print(\"1D Array\")\n",
    "array_1D = np.random.randint(1,100,3)\n",
    "array_1D = array_1D.reshape(1,3)\n",
    "print(array_1D)\n",
    "# Add them together and print the result.\n",
    "result = array_1D + array_2D\n",
    "print(result)\n",
    "# Then try subtracting a 1D row vector like [1, 1, 1] from the original 2D array.\n",
    "result = array_2D - array_1D\n",
    "print(result)"
   ]
  },
  {
   "cell_type": "markdown",
   "id": "cf628e96",
   "metadata": {},
   "source": [
    "\n",
    "✅ Step 10: Copy vs View in NumPy\n",
    "This step is about understanding whether you're changing the original array or just a reference to it.\n",
    "\n",
    "🔍 Concept:\n",
    "A copy creates a new, independent array.\n",
    "\n",
    "A view is just a reference (or window) to the same data in memory."
   ]
  },
  {
   "cell_type": "code",
   "execution_count": 59,
   "id": "686ae5a4",
   "metadata": {},
   "outputs": [
    {
     "name": "stdout",
     "output_type": "stream",
     "text": [
      "Array:  [44 24 95 24 78 29]\n",
      "View:  [95 24 78 29]\n",
      "Array:  [44 24 95 24 69 29]\n",
      "Array:  [27  3 71 29 72  1]\n",
      "Copy:  [58 29 72  1]\n"
     ]
    }
   ],
   "source": [
    "# ✅ Exercise Idea:\n",
    "# 🧩 Part 1: Using a View\n",
    "# Create an array with at least 6 elements.\n",
    "array_view = np.random.randint(1,100,6)\n",
    "\n",
    "# Slice a portion of the array — for example, take index 2 to 5. This slice is a view.\n",
    "View = array_view[2:]\n",
    "# Print both the original array and the view.\n",
    "print(\"Array: \",array_view)\n",
    "print(\"View: \",View)\n",
    "# Modify a value inside the view — change one of the elements.\n",
    "View[2] = 69\n",
    "# Print the original array again — you’ll notice that the change affected the original array too.\n",
    "print(\"Array: \",array_view)\n",
    "# 📤 Part 2: Using a Copy\n",
    "# Repeat steps 1 and 2 — create the same array and slice a portion.\n",
    "array_copy = np.random.randint(1,100,6)\n",
    "# This time, create a copy of that slice.\n",
    "Copy = array_copy[2:].copy()\n",
    "# Modify the copy.\n",
    "Copy[0] = 58\n",
    "# Print both the original array and the modified copy.\n",
    "print(\"Array: \",array_copy)\n",
    "print(\"Copy: \",Copy)\n",
    "# You’ll see that the original array remains unchanged — because you were working on a copy."
   ]
  }
 ],
 "metadata": {
  "kernelspec": {
   "display_name": "venv",
   "language": "python",
   "name": "python3"
  },
  "language_info": {
   "codemirror_mode": {
    "name": "ipython",
    "version": 3
   },
   "file_extension": ".py",
   "mimetype": "text/x-python",
   "name": "python",
   "nbconvert_exporter": "python",
   "pygments_lexer": "ipython3",
   "version": "3.13.2"
  }
 },
 "nbformat": 4,
 "nbformat_minor": 5
}
