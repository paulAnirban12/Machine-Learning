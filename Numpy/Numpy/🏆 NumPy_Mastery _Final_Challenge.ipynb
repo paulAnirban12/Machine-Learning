{
 "cells": [
  {
   "cell_type": "markdown",
   "id": "701b6d9d",
   "metadata": {},
   "source": [
    "🏆 NumPy Mastery — Final Challenge 2\n",
    "Scenario:\n",
    "You are analyzing weekly rainfall data (in mm) from 4 different regions over 5 weeks.\n",
    "Your goal is to generate, process, and analyze this dataset using only NumPy."
   ]
  },
  {
   "cell_type": "code",
   "execution_count": 1,
   "id": "b799fd62",
   "metadata": {},
   "outputs": [],
   "source": [
    "import numpy as np"
   ]
  },
  {
   "cell_type": "markdown",
   "id": "38b67d26",
   "metadata": {},
   "source": [
    "Step 1 — Data Creation\n",
    "Generate a 4x5 array of random integers between 50 and 200 (representing rainfall in mm).\n",
    "Print the array with a clear label."
   ]
  },
  {
   "cell_type": "code",
   "execution_count": 3,
   "id": "518528ca",
   "metadata": {},
   "outputs": [
    {
     "name": "stdout",
     "output_type": "stream",
     "text": [
      "[[ 85 144 113 156  50]\n",
      " [190 133 144 141 182]\n",
      " [143 191 160  52  54]\n",
      " [ 64 156 171  64  77]]\n"
     ]
    }
   ],
   "source": [
    "rainfall = np.random.randint(50,200,20)\n",
    "rainfall = rainfall.reshape(4,5)\n",
    "print(rainfall)"
   ]
  },
  {
   "cell_type": "markdown",
   "id": "e097f0a5",
   "metadata": {},
   "source": [
    "Step 2 — Basic Info"
   ]
  },
  {
   "cell_type": "code",
   "execution_count": 7,
   "id": "ec5e4c86",
   "metadata": {},
   "outputs": [
    {
     "name": "stdout",
     "output_type": "stream",
     "text": [
      "Shape:(4, 5)\n",
      "Size:20\n",
      "Data_Type:int32\n",
      "[ 85 144 113 156  50 190 133 144 141 182 143 191 160  52  54  64 156 171\n",
      "  64  77]\n"
     ]
    }
   ],
   "source": [
    "# Print the shape, size, and data type of the array.\n",
    "print(f\"Shape:{rainfall.shape}\")\n",
    "print(f\"Size:{rainfall.size}\")\n",
    "print(f\"Data_Type:{rainfall.dtype}\")\n",
    "print(rainfall.flatten())\n",
    "# Flatten the array into 1D and print it."
   ]
  },
  {
   "cell_type": "markdown",
   "id": "f98c6929",
   "metadata": {},
   "source": [
    "Step 3 — Slicing & Indexing"
   ]
  },
  {
   "cell_type": "code",
   "execution_count": 10,
   "id": "081c9b0a",
   "metadata": {},
   "outputs": [
    {
     "name": "stdout",
     "output_type": "stream",
     "text": [
      "[[ 85 144 113 156  50]\n",
      " [190 133 144 141 182]\n",
      " [143 191 160  52  54]\n",
      " [ 64 156 171  64  77]]\n",
      "[190 133 144 141 182]\n",
      "[52 54]\n",
      "171\n"
     ]
    }
   ],
   "source": [
    "# Print all rainfall data for the second region.\n",
    "print(rainfall)\n",
    "print(rainfall[1])\n",
    "# Print rainfall amounts for the last 2 weeks in the third region.\n",
    "print(rainfall[2,3:])\n",
    "# Print the rainfall in the fourth region during week 3.\n",
    "print(rainfall[3,2])"
   ]
  },
  {
   "cell_type": "markdown",
   "id": "58572293",
   "metadata": {},
   "source": [
    "Step 4 — Statistics"
   ]
  },
  {
   "cell_type": "code",
   "execution_count": null,
   "id": "f0bbb3a6",
   "metadata": {},
   "outputs": [
    {
     "name": "stdout",
     "output_type": "stream",
     "text": [
      "123.5\n",
      "Region1,Region2,Region3,Region4\n",
      "156,190,191,171\n",
      "50,133,52,64\n",
      "1501.04,542.0,3230.0,2218.64\n",
      "Week1,Week2,Week3,Week4,Week5\n",
      "120.5,156.0,147.0,103.25,90.75\n"
     ]
    }
   ],
   "source": [
    "# Find and print the overall mean rainfall.\n",
    "print(rainfall.mean())\n",
    "\n",
    "# Print the max and min rainfall for each region (row-wise).\n",
    "visual = \"Region1,Region2,Region3,Region4\"\n",
    "print(visual)\n",
    "max_output = \",\".join(f\"{value}\"for value in rainfall.max(axis = 1))\n",
    "print(max_output)\n",
    "min_output = \",\".join(f\"{value}\"for value in rainfall.min(axis = 1))\n",
    "print(min_output)\n",
    "# Find the variance for each region.\n",
    "var = \",\".join(f\"{value}\"for value in rainfall.var(axis = 1))\n",
    "print(var)\n",
    "print(\"Week1,Week2,Week3,Week4,Week5\")\n",
    "# Calculate the average rainfall per week (column-wise mean).\n",
    "average = \",\".join(f\"{value}\"for value in rainfall.mean(axis = 0))\n",
    "print(average)\n"
   ]
  },
  {
   "cell_type": "markdown",
   "id": "66f5d9d5",
   "metadata": {},
   "source": [
    "Step 5 — Boolean Filtering"
   ]
  },
  {
   "cell_type": "code",
   "execution_count": 35,
   "id": "8144d9c0",
   "metadata": {},
   "outputs": [
    {
     "name": "stdout",
     "output_type": "stream",
     "text": [
      "[156 190 182 191 160 156 171]\n",
      "[ 85  50 190 160]\n"
     ]
    }
   ],
   "source": [
    "# Extract and print all rainfall amounts above 150 mm.\n",
    "print(rainfall[rainfall>150])\n",
    "# Extract and print all rainfall amounts that are divisible by 5.\n",
    "print(rainfall[rainfall%5 == 0])"
   ]
  },
  {
   "cell_type": "markdown",
   "id": "159b7375",
   "metadata": {},
   "source": [
    "Step 6 — Broadcasting"
   ]
  },
  {
   "cell_type": "code",
   "execution_count": null,
   "id": "6f391c9c",
   "metadata": {},
   "outputs": [
    {
     "name": "stdout",
     "output_type": "stream",
     "text": [
      "[[ 95 154 123 166  60]\n",
      " [200 143 154 151 192]\n",
      " [153 201 170  62  64]\n",
      " [ 74 166 181  74  87]]\n",
      "[[ 85 144 113 156  50]\n",
      " [190 133 144 141 182]\n",
      " [143 191 160  52  54]\n",
      " [ 64 156 171  64  77]]\n",
      "[[ 90 139 113 166  40]\n",
      " [195 128 144 151 172]\n",
      " [148 186 160  62  44]\n",
      " [ 69 151 171  74  67]]\n"
     ]
    }
   ],
   "source": [
    "# Assume the rain gauges underreported by 10 mm — add 10 to all readings and print the corrected data.\n",
    "print(rainfall+10)\n",
    "# A weather anomaly caused a weekly offset: add [5, -5, 0, 10, -10] (week-wise adjustment) to the dataset using broadcasting.\n",
    "print(rainfall + np.array([5, -5, 0, 10, -10]).reshape(1,5))"
   ]
  },
  {
   "cell_type": "markdown",
   "id": "a85e4375",
   "metadata": {},
   "source": [
    "Step 7 — Views vs Copies\n"
   ]
  },
  {
   "cell_type": "code",
   "execution_count": 50,
   "id": "9443e247",
   "metadata": {},
   "outputs": [
    {
     "name": "stdout",
     "output_type": "stream",
     "text": [
      "[ 85 144  69]\n",
      "[[ 85 144  69 156  50]\n",
      " [190 133 144 141 182]\n",
      " [143 191 160  52  54]\n",
      " [ 64 156 171  64  77]]\n",
      "[171  64  77]\n",
      "[[ 85 144  69 156  50]\n",
      " [190 133 144 141 182]\n",
      " [143 191 160  52  54]\n",
      " [ 64 156 171  64  77]]\n"
     ]
    }
   ],
   "source": [
    "# Create a view of the first region’s rainfall for the first 3 weeks, modify one value, and show the change in the original array.\n",
    "view = rainfall[0,:3]\n",
    "print(view)\n",
    "view[2] = 69\n",
    "print(rainfall)\n",
    "# Create a copy of the last region’s last 3 weeks, modify one value, and show that the original is unchanged.\n",
    "copy = rainfall[3,2:].copy()\n",
    "print(copy)\n",
    "copy[2] = 6969\n",
    "print(rainfall)"
   ]
  }
 ],
 "metadata": {
  "kernelspec": {
   "display_name": "venv",
   "language": "python",
   "name": "python3"
  },
  "language_info": {
   "codemirror_mode": {
    "name": "ipython",
    "version": 3
   },
   "file_extension": ".py",
   "mimetype": "text/x-python",
   "name": "python",
   "nbconvert_exporter": "python",
   "pygments_lexer": "ipython3",
   "version": "3.13.2"
  }
 },
 "nbformat": 4,
 "nbformat_minor": 5
}
